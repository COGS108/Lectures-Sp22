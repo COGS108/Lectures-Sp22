{
 "cells": [
  {
   "cell_type": "markdown",
   "metadata": {
    "slideshow": {
     "slide_type": "slide"
    }
   },
   "source": [
    "## Class Announcements\n",
    "\n",
    "**Due Friday**:\n",
    "- D3\n",
    "- Project Proposal (Template in repo, turn in via repo)\n",
    "- Weekly project survey check in (optional, released Wednesdays!) on Canvas\n",
    "\n",
    "**Notes**:\n",
    "- Repo invites: missed yours? Ask on Piazza in private message to instructors!\n"
   ]
  },
  {
   "cell_type": "markdown",
   "metadata": {
    "slideshow": {
     "slide_type": "slide"
    }
   },
   "source": [
    "[![Open In Colab](https://colab.research.google.com/assets/colab-badge.svg)](https://colab.research.google.com/github/COGS108/Lectures-Sp22/blob/main/04_data/04_02_descriptive.ipynb)\n",
    "\n",
    "# Descriptive Analysis\n",
    "\n",
    "- Size\n",
    "- Missingness\n",
    "- Shape\n",
    "- Central Tendency\n",
    "- Variability\n",
    "\n",
    "<div class=\"alert alert-success\">\n",
    "The goal of a <b>descriptive analysis</b> is to understand and summarize information about the variables stored in your dataset.\n",
    "</div>"
   ]
  },
  {
   "cell_type": "markdown",
   "metadata": {
    "slideshow": {
     "slide_type": "slide"
    }
   },
   "source": [
    "### Setup\n",
    "\n",
    "The packages and settings we'll use in this workbook:"
   ]
  },
  {
   "cell_type": "code",
   "execution_count": 88,
   "metadata": {
    "slideshow": {
     "slide_type": "fragment"
    }
   },
   "outputs": [],
   "source": [
    "import numpy as np\n",
    "import pandas as pd\n",
    "\n",
    "import matplotlib.pyplot as plt\n",
    "plt.rcParams['figure.figsize'] = (17, 7) #increase figure size\n",
    "\n",
    "import seaborn as sns\n",
    "sns.set(style='white', font_scale=2) #set style\n",
    "\n",
    "import warnings\n",
    "warnings.filterwarnings('ignore')\n",
    "\n",
    "from scipy.stats import uniform, norm, bernoulli, poisson\n",
    "\n",
    "#improve resolution\n",
    "#comment this line if erroring on your machine/screen\n",
    "%config InlineBackend.figure_format ='retina'"
   ]
  },
  {
   "cell_type": "markdown",
   "metadata": {
    "slideshow": {
     "slide_type": "slide"
    }
   },
   "source": [
    "## The Data\n",
    "\n",
    "To walk through these concepts today, we're going to use your responses from after the Data Intuition Lecture."
   ]
  },
  {
   "cell_type": "code",
   "execution_count": 101,
   "metadata": {
    "slideshow": {
     "slide_type": "-"
    }
   },
   "outputs": [],
   "source": [
    "# read data into Python\n",
    "df = pd.read_csv('data/fermi_sp21.csv')"
   ]
  },
  {
   "cell_type": "code",
   "execution_count": 102,
   "metadata": {
    "scrolled": false,
    "slideshow": {
     "slide_type": "-"
    }
   },
   "outputs": [
    {
     "data": {
      "text/html": [
       "<div>\n",
       "<style scoped>\n",
       "    .dataframe tbody tr th:only-of-type {\n",
       "        vertical-align: middle;\n",
       "    }\n",
       "\n",
       "    .dataframe tbody tr th {\n",
       "        vertical-align: top;\n",
       "    }\n",
       "\n",
       "    .dataframe thead th {\n",
       "        text-align: right;\n",
       "    }\n",
       "</style>\n",
       "<table border=\"1\" class=\"dataframe\">\n",
       "  <thead>\n",
       "    <tr style=\"text-align: right;\">\n",
       "      <th></th>\n",
       "      <th>Timestamp</th>\n",
       "      <th>How fast does human hair grow (cm/yr)?</th>\n",
       "      <th>If every living person stood crammed together side-by-side, how large of an area would they occupy (km²)?</th>\n",
       "      <th>How many days would it take to walk from San Diego to New York City (assuming no stopping to fix shoes, apply sunscreen, or for sleeping, eating, or other biological needs)?</th>\n",
       "    </tr>\n",
       "  </thead>\n",
       "  <tbody>\n",
       "    <tr>\n",
       "      <th>0</th>\n",
       "      <td>4/7/2021 9:59:28</td>\n",
       "      <td>100</td>\n",
       "      <td>10000</td>\n",
       "      <td>10</td>\n",
       "    </tr>\n",
       "    <tr>\n",
       "      <th>1</th>\n",
       "      <td>4/7/2021 12:45:54</td>\n",
       "      <td>10 cm/yr</td>\n",
       "      <td>7000 km^2</td>\n",
       "      <td>45 days</td>\n",
       "    </tr>\n",
       "    <tr>\n",
       "      <th>2</th>\n",
       "      <td>4/7/2021 19:17:46</td>\n",
       "      <td>20</td>\n",
       "      <td>10000</td>\n",
       "      <td>50</td>\n",
       "    </tr>\n",
       "    <tr>\n",
       "      <th>3</th>\n",
       "      <td>4/9/2021 9:10:29</td>\n",
       "      <td>20</td>\n",
       "      <td>1000000</td>\n",
       "      <td>500</td>\n",
       "    </tr>\n",
       "    <tr>\n",
       "      <th>4</th>\n",
       "      <td>4/9/2021 9:10:31</td>\n",
       "      <td>10cm/yr</td>\n",
       "      <td>1km^2</td>\n",
       "      <td>20 days</td>\n",
       "    </tr>\n",
       "    <tr>\n",
       "      <th>5</th>\n",
       "      <td>4/9/2021 9:10:43</td>\n",
       "      <td>10</td>\n",
       "      <td>100000</td>\n",
       "      <td>9</td>\n",
       "    </tr>\n",
       "    <tr>\n",
       "      <th>6</th>\n",
       "      <td>4/9/2021 9:10:43</td>\n",
       "      <td>10cm/yr</td>\n",
       "      <td>10000</td>\n",
       "      <td>50</td>\n",
       "    </tr>\n",
       "    <tr>\n",
       "      <th>7</th>\n",
       "      <td>4/9/2021 9:10:47</td>\n",
       "      <td>3</td>\n",
       "      <td>10000</td>\n",
       "      <td>63</td>\n",
       "    </tr>\n",
       "    <tr>\n",
       "      <th>8</th>\n",
       "      <td>4/9/2021 9:10:48</td>\n",
       "      <td>10cm</td>\n",
       "      <td>1500000</td>\n",
       "      <td>14 days</td>\n",
       "    </tr>\n",
       "    <tr>\n",
       "      <th>9</th>\n",
       "      <td>4/9/2021 9:10:50</td>\n",
       "      <td>15 cm/yr</td>\n",
       "      <td>20,000 km^2</td>\n",
       "      <td>50 days</td>\n",
       "    </tr>\n",
       "    <tr>\n",
       "      <th>10</th>\n",
       "      <td>4/9/2021 9:10:51</td>\n",
       "      <td>200</td>\n",
       "      <td>10000000</td>\n",
       "      <td>100</td>\n",
       "    </tr>\n",
       "    <tr>\n",
       "      <th>11</th>\n",
       "      <td>4/9/2021 9:10:52</td>\n",
       "      <td>5/year</td>\n",
       "      <td>100 million</td>\n",
       "      <td>30 days</td>\n",
       "    </tr>\n",
       "    <tr>\n",
       "      <th>12</th>\n",
       "      <td>4/9/2021 9:10:55</td>\n",
       "      <td>20 cm/year</td>\n",
       "      <td>10,000 km^2</td>\n",
       "      <td>50 days</td>\n",
       "    </tr>\n",
       "    <tr>\n",
       "      <th>13</th>\n",
       "      <td>4/9/2021 9:10:55</td>\n",
       "      <td>5</td>\n",
       "      <td>5000000000</td>\n",
       "      <td>3</td>\n",
       "    </tr>\n",
       "    <tr>\n",
       "      <th>14</th>\n",
       "      <td>4/9/2021 9:10:59</td>\n",
       "      <td>50</td>\n",
       "      <td>700000000</td>\n",
       "      <td>7</td>\n",
       "    </tr>\n",
       "    <tr>\n",
       "      <th>15</th>\n",
       "      <td>4/9/2021 9:11:00</td>\n",
       "      <td>10</td>\n",
       "      <td>1000</td>\n",
       "      <td>500</td>\n",
       "    </tr>\n",
       "    <tr>\n",
       "      <th>16</th>\n",
       "      <td>4/9/2021 9:11:02</td>\n",
       "      <td>2</td>\n",
       "      <td>1000000</td>\n",
       "      <td>31</td>\n",
       "    </tr>\n",
       "    <tr>\n",
       "      <th>17</th>\n",
       "      <td>4/9/2021 9:11:03</td>\n",
       "      <td>20 cm/year</td>\n",
       "      <td>230,000</td>\n",
       "      <td>45 days</td>\n",
       "    </tr>\n",
       "    <tr>\n",
       "      <th>18</th>\n",
       "      <td>4/9/2021 9:11:04</td>\n",
       "      <td>15 cm/yr</td>\n",
       "      <td>Texas?</td>\n",
       "      <td>Over 3000 days?</td>\n",
       "    </tr>\n",
       "    <tr>\n",
       "      <th>19</th>\n",
       "      <td>4/9/2021 9:11:05</td>\n",
       "      <td>10</td>\n",
       "      <td>1000000</td>\n",
       "      <td>14</td>\n",
       "    </tr>\n",
       "    <tr>\n",
       "      <th>20</th>\n",
       "      <td>4/9/2021 9:11:07</td>\n",
       "      <td>100</td>\n",
       "      <td>2000</td>\n",
       "      <td>30</td>\n",
       "    </tr>\n",
       "    <tr>\n",
       "      <th>21</th>\n",
       "      <td>4/9/2021 9:11:07</td>\n",
       "      <td>10</td>\n",
       "      <td>2222</td>\n",
       "      <td>19</td>\n",
       "    </tr>\n",
       "    <tr>\n",
       "      <th>22</th>\n",
       "      <td>4/9/2021 9:11:07</td>\n",
       "      <td>50</td>\n",
       "      <td>100000000</td>\n",
       "      <td>40</td>\n",
       "    </tr>\n",
       "    <tr>\n",
       "      <th>23</th>\n",
       "      <td>4/9/2021 9:11:08</td>\n",
       "      <td>8cm a year</td>\n",
       "      <td>20,000 km^2</td>\n",
       "      <td>2 months</td>\n",
       "    </tr>\n",
       "    <tr>\n",
       "      <th>24</th>\n",
       "      <td>4/9/2021 9:11:08</td>\n",
       "      <td>10</td>\n",
       "      <td>50</td>\n",
       "      <td>150</td>\n",
       "    </tr>\n",
       "    <tr>\n",
       "      <th>25</th>\n",
       "      <td>4/9/2021 9:11:08</td>\n",
       "      <td>10</td>\n",
       "      <td>100000</td>\n",
       "      <td>10000</td>\n",
       "    </tr>\n",
       "    <tr>\n",
       "      <th>26</th>\n",
       "      <td>4/9/2021 9:11:09</td>\n",
       "      <td>1,000cm/yr</td>\n",
       "      <td>1000000000000</td>\n",
       "      <td>4 weeks</td>\n",
       "    </tr>\n",
       "    <tr>\n",
       "      <th>27</th>\n",
       "      <td>4/9/2021 9:11:09</td>\n",
       "      <td>60</td>\n",
       "      <td>5000</td>\n",
       "      <td>15</td>\n",
       "    </tr>\n",
       "    <tr>\n",
       "      <th>28</th>\n",
       "      <td>4/9/2021 9:11:10</td>\n",
       "      <td>6</td>\n",
       "      <td>100</td>\n",
       "      <td>100</td>\n",
       "    </tr>\n",
       "    <tr>\n",
       "      <th>29</th>\n",
       "      <td>4/9/2021 9:11:11</td>\n",
       "      <td>10</td>\n",
       "      <td>100000</td>\n",
       "      <td>180</td>\n",
       "    </tr>\n",
       "    <tr>\n",
       "      <th>30</th>\n",
       "      <td>4/9/2021 9:11:11</td>\n",
       "      <td>14cm/yr</td>\n",
       "      <td>500000 km²</td>\n",
       "      <td>700 days</td>\n",
       "    </tr>\n",
       "    <tr>\n",
       "      <th>31</th>\n",
       "      <td>4/9/2021 9:11:11</td>\n",
       "      <td>2cm</td>\n",
       "      <td>i'm bad at area lol</td>\n",
       "      <td>65 days</td>\n",
       "    </tr>\n",
       "    <tr>\n",
       "      <th>32</th>\n",
       "      <td>4/9/2021 9:11:13</td>\n",
       "      <td>10</td>\n",
       "      <td>1000</td>\n",
       "      <td>500</td>\n",
       "    </tr>\n",
       "    <tr>\n",
       "      <th>33</th>\n",
       "      <td>4/9/2021 9:11:15</td>\n",
       "      <td>52.8</td>\n",
       "      <td>300</td>\n",
       "      <td>7</td>\n",
       "    </tr>\n",
       "    <tr>\n",
       "      <th>34</th>\n",
       "      <td>4/9/2021 9:11:17</td>\n",
       "      <td>12 cm/yr</td>\n",
       "      <td>100000 km</td>\n",
       "      <td>25 days</td>\n",
       "    </tr>\n",
       "    <tr>\n",
       "      <th>35</th>\n",
       "      <td>4/9/2021 9:11:18</td>\n",
       "      <td>24</td>\n",
       "      <td>400</td>\n",
       "      <td>1500</td>\n",
       "    </tr>\n",
       "    <tr>\n",
       "      <th>36</th>\n",
       "      <td>4/9/2021 9:11:18</td>\n",
       "      <td>20cm/yr</td>\n",
       "      <td>6,000,000,000 km^2</td>\n",
       "      <td>90 days</td>\n",
       "    </tr>\n",
       "    <tr>\n",
       "      <th>37</th>\n",
       "      <td>4/9/2021 9:11:18</td>\n",
       "      <td>20 cm/yr</td>\n",
       "      <td>10,000km^2</td>\n",
       "      <td>20 days</td>\n",
       "    </tr>\n",
       "    <tr>\n",
       "      <th>38</th>\n",
       "      <td>4/9/2021 9:11:18</td>\n",
       "      <td>72 cm/yr</td>\n",
       "      <td>100000000 km2</td>\n",
       "      <td>15</td>\n",
       "    </tr>\n",
       "    <tr>\n",
       "      <th>39</th>\n",
       "      <td>4/9/2021 9:11:19</td>\n",
       "      <td>20cm/1yr</td>\n",
       "      <td>800,000km^2</td>\n",
       "      <td>25 days</td>\n",
       "    </tr>\n",
       "    <tr>\n",
       "      <th>40</th>\n",
       "      <td>4/9/2021 9:11:20</td>\n",
       "      <td>2</td>\n",
       "      <td>100</td>\n",
       "      <td>300</td>\n",
       "    </tr>\n",
       "    <tr>\n",
       "      <th>41</th>\n",
       "      <td>4/9/2021 9:11:22</td>\n",
       "      <td>12</td>\n",
       "      <td>100</td>\n",
       "      <td>30</td>\n",
       "    </tr>\n",
       "    <tr>\n",
       "      <th>42</th>\n",
       "      <td>4/9/2021 9:11:23</td>\n",
       "      <td>100cm/yr</td>\n",
       "      <td>10000</td>\n",
       "      <td>100</td>\n",
       "    </tr>\n",
       "    <tr>\n",
       "      <th>43</th>\n",
       "      <td>4/9/2021 9:11:23</td>\n",
       "      <td>12</td>\n",
       "      <td>1000</td>\n",
       "      <td>120 days</td>\n",
       "    </tr>\n",
       "    <tr>\n",
       "      <th>44</th>\n",
       "      <td>4/9/2021 9:11:23</td>\n",
       "      <td>50</td>\n",
       "      <td>100</td>\n",
       "      <td>20</td>\n",
       "    </tr>\n",
       "    <tr>\n",
       "      <th>45</th>\n",
       "      <td>4/9/2021 9:11:23</td>\n",
       "      <td>20</td>\n",
       "      <td>10000</td>\n",
       "      <td>90</td>\n",
       "    </tr>\n",
       "    <tr>\n",
       "      <th>46</th>\n",
       "      <td>4/9/2021 9:11:23</td>\n",
       "      <td>3</td>\n",
       "      <td>20,000,000,000,000</td>\n",
       "      <td>100</td>\n",
       "    </tr>\n",
       "    <tr>\n",
       "      <th>47</th>\n",
       "      <td>4/9/2021 9:11:23</td>\n",
       "      <td>5 cm/y</td>\n",
       "      <td>300</td>\n",
       "      <td>20 days</td>\n",
       "    </tr>\n",
       "    <tr>\n",
       "      <th>48</th>\n",
       "      <td>4/9/2021 9:11:23</td>\n",
       "      <td>8</td>\n",
       "      <td>25000</td>\n",
       "      <td>1000</td>\n",
       "    </tr>\n",
       "    <tr>\n",
       "      <th>49</th>\n",
       "      <td>4/9/2021 9:11:24</td>\n",
       "      <td>4</td>\n",
       "      <td>807</td>\n",
       "      <td>5000</td>\n",
       "    </tr>\n",
       "  </tbody>\n",
       "</table>\n",
       "</div>"
      ],
      "text/plain": [
       "            Timestamp How fast does human hair grow (cm/yr)?  \\\n",
       "0    4/7/2021 9:59:28                                    100   \n",
       "1   4/7/2021 12:45:54                               10 cm/yr   \n",
       "2   4/7/2021 19:17:46                                     20   \n",
       "3    4/9/2021 9:10:29                                     20   \n",
       "4    4/9/2021 9:10:31                                10cm/yr   \n",
       "5    4/9/2021 9:10:43                                     10   \n",
       "6    4/9/2021 9:10:43                                10cm/yr   \n",
       "7    4/9/2021 9:10:47                                      3   \n",
       "8    4/9/2021 9:10:48                                   10cm   \n",
       "9    4/9/2021 9:10:50                               15 cm/yr   \n",
       "10   4/9/2021 9:10:51                                    200   \n",
       "11   4/9/2021 9:10:52                                 5/year   \n",
       "12   4/9/2021 9:10:55                             20 cm/year   \n",
       "13   4/9/2021 9:10:55                                      5   \n",
       "14   4/9/2021 9:10:59                                     50   \n",
       "15   4/9/2021 9:11:00                                     10   \n",
       "16   4/9/2021 9:11:02                                      2   \n",
       "17   4/9/2021 9:11:03                             20 cm/year   \n",
       "18   4/9/2021 9:11:04                               15 cm/yr   \n",
       "19   4/9/2021 9:11:05                                     10   \n",
       "20   4/9/2021 9:11:07                                    100   \n",
       "21   4/9/2021 9:11:07                                     10   \n",
       "22   4/9/2021 9:11:07                                     50   \n",
       "23   4/9/2021 9:11:08                             8cm a year   \n",
       "24   4/9/2021 9:11:08                                     10   \n",
       "25   4/9/2021 9:11:08                                     10   \n",
       "26   4/9/2021 9:11:09                             1,000cm/yr   \n",
       "27   4/9/2021 9:11:09                                     60   \n",
       "28   4/9/2021 9:11:10                                      6   \n",
       "29   4/9/2021 9:11:11                                     10   \n",
       "30   4/9/2021 9:11:11                                14cm/yr   \n",
       "31   4/9/2021 9:11:11                                    2cm   \n",
       "32   4/9/2021 9:11:13                                     10   \n",
       "33   4/9/2021 9:11:15                                   52.8   \n",
       "34   4/9/2021 9:11:17                               12 cm/yr   \n",
       "35   4/9/2021 9:11:18                                     24   \n",
       "36   4/9/2021 9:11:18                                20cm/yr   \n",
       "37   4/9/2021 9:11:18                               20 cm/yr   \n",
       "38   4/9/2021 9:11:18                               72 cm/yr   \n",
       "39   4/9/2021 9:11:19                               20cm/1yr   \n",
       "40   4/9/2021 9:11:20                                      2   \n",
       "41   4/9/2021 9:11:22                                     12   \n",
       "42   4/9/2021 9:11:23                               100cm/yr   \n",
       "43   4/9/2021 9:11:23                                     12   \n",
       "44   4/9/2021 9:11:23                                     50   \n",
       "45   4/9/2021 9:11:23                                     20   \n",
       "46   4/9/2021 9:11:23                                      3   \n",
       "47   4/9/2021 9:11:23                                 5 cm/y   \n",
       "48   4/9/2021 9:11:23                                      8   \n",
       "49   4/9/2021 9:11:24                                      4   \n",
       "\n",
       "   If every living person stood crammed together side-by-side, how large of an area would they occupy (km²)?  \\\n",
       "0                                               10000                                                          \n",
       "1                                           7000 km^2                                                          \n",
       "2                                               10000                                                          \n",
       "3                                             1000000                                                          \n",
       "4                                               1km^2                                                          \n",
       "5                                              100000                                                          \n",
       "6                                               10000                                                          \n",
       "7                                               10000                                                          \n",
       "8                                             1500000                                                          \n",
       "9                                         20,000 km^2                                                          \n",
       "10                                           10000000                                                          \n",
       "11                                        100 million                                                          \n",
       "12                                        10,000 km^2                                                          \n",
       "13                                         5000000000                                                          \n",
       "14                                          700000000                                                          \n",
       "15                                               1000                                                          \n",
       "16                                            1000000                                                          \n",
       "17                                            230,000                                                          \n",
       "18                                             Texas?                                                          \n",
       "19                                            1000000                                                          \n",
       "20                                               2000                                                          \n",
       "21                                               2222                                                          \n",
       "22                                          100000000                                                          \n",
       "23                                        20,000 km^2                                                          \n",
       "24                                                 50                                                          \n",
       "25                                             100000                                                          \n",
       "26                                      1000000000000                                                          \n",
       "27                                               5000                                                          \n",
       "28                                                100                                                          \n",
       "29                                             100000                                                          \n",
       "30                                         500000 km²                                                          \n",
       "31                                i'm bad at area lol                                                          \n",
       "32                                               1000                                                          \n",
       "33                                                300                                                          \n",
       "34                                          100000 km                                                          \n",
       "35                                                400                                                          \n",
       "36                                 6,000,000,000 km^2                                                          \n",
       "37                                         10,000km^2                                                          \n",
       "38                                      100000000 km2                                                          \n",
       "39                                        800,000km^2                                                          \n",
       "40                                                100                                                          \n",
       "41                                                100                                                          \n",
       "42                                              10000                                                          \n",
       "43                                               1000                                                          \n",
       "44                                                100                                                          \n",
       "45                                              10000                                                          \n",
       "46                                 20,000,000,000,000                                                          \n",
       "47                                                300                                                          \n",
       "48                                              25000                                                          \n",
       "49                                                807                                                          \n",
       "\n",
       "   How many days would it take to walk from San Diego to New York City (assuming no stopping to fix shoes, apply sunscreen, or for sleeping, eating, or other biological needs)?  \n",
       "0                                                  10                                                                                                                             \n",
       "1                                            45 days                                                                                                                              \n",
       "2                                                  50                                                                                                                             \n",
       "3                                                 500                                                                                                                             \n",
       "4                                             20 days                                                                                                                             \n",
       "5                                                   9                                                                                                                             \n",
       "6                                                  50                                                                                                                             \n",
       "7                                                  63                                                                                                                             \n",
       "8                                            14 days                                                                                                                              \n",
       "9                                             50 days                                                                                                                             \n",
       "10                                                100                                                                                                                             \n",
       "11                                            30 days                                                                                                                             \n",
       "12                                            50 days                                                                                                                             \n",
       "13                                                  3                                                                                                                             \n",
       "14                                                  7                                                                                                                             \n",
       "15                                                500                                                                                                                             \n",
       "16                                                 31                                                                                                                             \n",
       "17                                            45 days                                                                                                                             \n",
       "18                                    Over 3000 days?                                                                                                                             \n",
       "19                                                 14                                                                                                                             \n",
       "20                                                 30                                                                                                                             \n",
       "21                                                 19                                                                                                                             \n",
       "22                                                 40                                                                                                                             \n",
       "23                                           2 months                                                                                                                             \n",
       "24                                                150                                                                                                                             \n",
       "25                                              10000                                                                                                                             \n",
       "26                                            4 weeks                                                                                                                             \n",
       "27                                                 15                                                                                                                             \n",
       "28                                                100                                                                                                                             \n",
       "29                                                180                                                                                                                             \n",
       "30                                           700 days                                                                                                                             \n",
       "31                                            65 days                                                                                                                             \n",
       "32                                                500                                                                                                                             \n",
       "33                                                  7                                                                                                                             \n",
       "34                                            25 days                                                                                                                             \n",
       "35                                               1500                                                                                                                             \n",
       "36                                            90 days                                                                                                                             \n",
       "37                                           20 days                                                                                                                              \n",
       "38                                                 15                                                                                                                             \n",
       "39                                            25 days                                                                                                                             \n",
       "40                                                300                                                                                                                             \n",
       "41                                                 30                                                                                                                             \n",
       "42                                                100                                                                                                                             \n",
       "43                                           120 days                                                                                                                             \n",
       "44                                                 20                                                                                                                             \n",
       "45                                                 90                                                                                                                             \n",
       "46                                                100                                                                                                                             \n",
       "47                                            20 days                                                                                                                             \n",
       "48                                               1000                                                                                                                             \n",
       "49                                               5000                                                                                                                             "
      ]
     },
     "execution_count": 102,
     "metadata": {},
     "output_type": "execute_result"
    }
   ],
   "source": [
    "# take a look at the data\n",
    "df[:50]"
   ]
  },
  {
   "cell_type": "markdown",
   "metadata": {
    "slideshow": {
     "slide_type": "slide"
    }
   },
   "source": [
    "### Data Cleaning & Wrangling\n",
    "\n",
    "Tidy Data Rules (Review):\n",
    "1. Every observation in a row\n",
    "2. Every variable in a column\n",
    "3. If multiple tables, column on which to merge"
   ]
  },
  {
   "cell_type": "markdown",
   "metadata": {
    "slideshow": {
     "slide_type": "slide"
    }
   },
   "source": [
    "https://forms.gle/iW1HwXXqrRnvdkAw7\n",
    "\n",
    "<img src=\"images/qr-code(15).png\" width=800>\n",
    "\n",
    "#### Clicker Question #1\n",
    "\n",
    "Are these data in the tidy data format?\n",
    "\n",
    "- A) Yes, these data are ready to analyze\n",
    "- B) Yes, but there is more work to do before analysis\n",
    "- C) No, not tidy\n",
    "- D) Have no idea what you're talking about"
   ]
  },
  {
   "cell_type": "markdown",
   "metadata": {
    "slideshow": {
     "slide_type": "fragment"
    }
   },
   "source": [
    "**Brainstorming**\n",
    "\n",
    "What considerations do we have to make about these data?\n",
    "- shorten column/variable names\n",
    "- standardize responses\n",
    "    - make measurements uniform\n",
    "    - remove units\n",
    "- string to int/float (want to work with #s)\n",
    "- consider missing values\n"
   ]
  },
  {
   "cell_type": "code",
   "execution_count": 103,
   "metadata": {
    "scrolled": false,
    "slideshow": {
     "slide_type": "slide"
    }
   },
   "outputs": [
    {
     "data": {
      "text/html": [
       "<div>\n",
       "<style scoped>\n",
       "    .dataframe tbody tr th:only-of-type {\n",
       "        vertical-align: middle;\n",
       "    }\n",
       "\n",
       "    .dataframe tbody tr th {\n",
       "        vertical-align: top;\n",
       "    }\n",
       "\n",
       "    .dataframe thead th {\n",
       "        text-align: right;\n",
       "    }\n",
       "</style>\n",
       "<table border=\"1\" class=\"dataframe\">\n",
       "  <thead>\n",
       "    <tr style=\"text-align: right;\">\n",
       "      <th></th>\n",
       "      <th>timestamp</th>\n",
       "      <th>hair_growth</th>\n",
       "      <th>crammed</th>\n",
       "      <th>SAN_NYC</th>\n",
       "    </tr>\n",
       "  </thead>\n",
       "  <tbody>\n",
       "    <tr>\n",
       "      <th>0</th>\n",
       "      <td>4/7/2021 9:59:28</td>\n",
       "      <td>100</td>\n",
       "      <td>10000</td>\n",
       "      <td>10</td>\n",
       "    </tr>\n",
       "    <tr>\n",
       "      <th>1</th>\n",
       "      <td>4/7/2021 12:45:54</td>\n",
       "      <td>10 cm/yr</td>\n",
       "      <td>7000 km^2</td>\n",
       "      <td>45 days</td>\n",
       "    </tr>\n",
       "    <tr>\n",
       "      <th>2</th>\n",
       "      <td>4/7/2021 19:17:46</td>\n",
       "      <td>20</td>\n",
       "      <td>10000</td>\n",
       "      <td>50</td>\n",
       "    </tr>\n",
       "    <tr>\n",
       "      <th>3</th>\n",
       "      <td>4/9/2021 9:10:29</td>\n",
       "      <td>20</td>\n",
       "      <td>1000000</td>\n",
       "      <td>500</td>\n",
       "    </tr>\n",
       "    <tr>\n",
       "      <th>4</th>\n",
       "      <td>4/9/2021 9:10:31</td>\n",
       "      <td>10cm/yr</td>\n",
       "      <td>1km^2</td>\n",
       "      <td>20 days</td>\n",
       "    </tr>\n",
       "  </tbody>\n",
       "</table>\n",
       "</div>"
      ],
      "text/plain": [
       "           timestamp hair_growth    crammed   SAN_NYC\n",
       "0   4/7/2021 9:59:28         100      10000        10\n",
       "1  4/7/2021 12:45:54    10 cm/yr  7000 km^2  45 days \n",
       "2  4/7/2021 19:17:46          20      10000        50\n",
       "3   4/9/2021 9:10:29          20    1000000       500\n",
       "4   4/9/2021 9:10:31     10cm/yr      1km^2   20 days"
      ]
     },
     "execution_count": 103,
     "metadata": {},
     "output_type": "execute_result"
    }
   ],
   "source": [
    "# change column names\n",
    "df.columns = ['timestamp', 'hair_growth', 'crammed', 'SAN_NYC']\n",
    "df.head()"
   ]
  },
  {
   "cell_type": "code",
   "execution_count": 104,
   "metadata": {
    "scrolled": false,
    "slideshow": {
     "slide_type": "slide"
    }
   },
   "outputs": [
    {
     "data": {
      "text/plain": [
       "timestamp      object\n",
       "hair_growth    object\n",
       "crammed        object\n",
       "SAN_NYC        object\n",
       "dtype: object"
      ]
     },
     "execution_count": 104,
     "metadata": {},
     "output_type": "execute_result"
    }
   ],
   "source": [
    "# check type of each Series (column)\n",
    "df.dtypes"
   ]
  },
  {
   "cell_type": "code",
   "execution_count": 107,
   "metadata": {},
   "outputs": [],
   "source": [
    "df['timestamp'] = pd.to_datetime( df['timestamp'])"
   ]
  },
  {
   "cell_type": "code",
   "execution_count": 108,
   "metadata": {},
   "outputs": [
    {
     "data": {
      "text/plain": [
       "timestamp      datetime64[ns]\n",
       "hair_growth            object\n",
       "crammed                object\n",
       "SAN_NYC                object\n",
       "dtype: object"
      ]
     },
     "execution_count": 108,
     "metadata": {},
     "output_type": "execute_result"
    }
   ],
   "source": [
    "df.dtypes"
   ]
  },
  {
   "cell_type": "markdown",
   "metadata": {
    "slideshow": {
     "slide_type": "slide"
    }
   },
   "source": [
    "## Size\n",
    "\n",
    "As discussed previously, knowing and checking the size of your data helps you:\n",
    "- understand what information you have\n",
    "- know if it read into Python correctly\n",
    "- determine what analyses are appropriate"
   ]
  },
  {
   "cell_type": "code",
   "execution_count": 109,
   "metadata": {
    "slideshow": {
     "slide_type": "-"
    }
   },
   "outputs": [
    {
     "data": {
      "text/plain": [
       "(85, 4)"
      ]
     },
     "execution_count": 109,
     "metadata": {},
     "output_type": "execute_result"
    }
   ],
   "source": [
    "# determine rows and columns in df\n",
    "df.shape"
   ]
  },
  {
   "cell_type": "markdown",
   "metadata": {
    "slideshow": {
     "slide_type": "fragment"
    }
   },
   "source": [
    "We now know that we have information about 85 students across 4 variables."
   ]
  },
  {
   "cell_type": "markdown",
   "metadata": {
    "slideshow": {
     "slide_type": "slide"
    }
   },
   "source": [
    "## Missingness\n",
    "\n",
    "Data can be missing for all kinds of reasons. It's your job to determine if:\n",
    "- values are missing at random\n",
    "- values are missing due to data entry errors\n",
    "- values are missing due to faulty data collection\n",
    "\n"
   ]
  },
  {
   "cell_type": "code",
   "execution_count": 112,
   "metadata": {},
   "outputs": [
    {
     "data": {
      "text/plain": [
       "0     False\n",
       "1     False\n",
       "2     False\n",
       "3     False\n",
       "4     False\n",
       "      ...  \n",
       "80    False\n",
       "81    False\n",
       "82    False\n",
       "83    False\n",
       "84    False\n",
       "Length: 85, dtype: bool"
      ]
     },
     "execution_count": 112,
     "metadata": {},
     "output_type": "execute_result"
    }
   ],
   "source": [
    "df.isnull().all(axis=1)"
   ]
  },
  {
   "cell_type": "code",
   "execution_count": 113,
   "metadata": {
    "slideshow": {
     "slide_type": "fragment"
    }
   },
   "outputs": [
    {
     "data": {
      "text/plain": [
       "(0, 4)"
      ]
     },
     "execution_count": 113,
     "metadata": {},
     "output_type": "execute_result"
    }
   ],
   "source": [
    "# True if row contains at least one null value\n",
    "# axis argument: 0 for reducing by ‘index’, 1 for reducing by ‘columns’,\n",
    "null_rows = df.isnull().any(axis=1)\n",
    "df[null_rows].shape"
   ]
  },
  {
   "cell_type": "code",
   "execution_count": 114,
   "metadata": {
    "slideshow": {
     "slide_type": "fragment"
    }
   },
   "outputs": [
    {
     "data": {
      "text/plain": [
       "Index([], dtype='object')"
      ]
     },
     "execution_count": 114,
     "metadata": {},
     "output_type": "execute_result"
    }
   ],
   "source": [
    "# columns with missing values\n",
    "df.columns[df.isnull().any(axis=0)]"
   ]
  },
  {
   "cell_type": "code",
   "execution_count": 122,
   "metadata": {},
   "outputs": [],
   "source": [
    "df.iloc[0,1]='100'"
   ]
  },
  {
   "cell_type": "code",
   "execution_count": 123,
   "metadata": {
    "scrolled": false,
    "slideshow": {
     "slide_type": "fragment"
    }
   },
   "outputs": [
    {
     "data": {
      "text/plain": [
       "timestamp      0\n",
       "hair_growth    0\n",
       "crammed        0\n",
       "SAN_NYC        0\n",
       "dtype: int64"
      ]
     },
     "execution_count": 123,
     "metadata": {},
     "output_type": "execute_result"
    }
   ],
   "source": [
    "# number of missing values by column\n",
    "df.isnull().sum()"
   ]
  },
  {
   "cell_type": "markdown",
   "metadata": {
    "slideshow": {
     "slide_type": "slide"
    }
   },
   "source": [
    "## Cleaning: Hair Growth\n",
    "\n",
    "How fast does human hair grow (cm/yr)?"
   ]
  },
  {
   "cell_type": "code",
   "execution_count": 124,
   "metadata": {
    "scrolled": true,
    "slideshow": {
     "slide_type": "fragment"
    }
   },
   "outputs": [
    {
     "data": {
      "text/plain": [
       "array(['100', '10 cm/yr', '20', '10cm/yr', '10', '3', '10cm', '15 cm/yr',\n",
       "       '200', '5/year', '20 cm/year', '5', '50', '2', '8cm a year',\n",
       "       '1,000cm/yr', '60', '6', '14cm/yr', '2cm', '52.8', '12 cm/yr',\n",
       "       '24', '20cm/yr', '20 cm/yr', '72 cm/yr', '20cm/1yr', '12',\n",
       "       '100cm/yr', '5 cm/y', '8', '4', '365', '13 cm/yr', '30 cm/yr',\n",
       "       '12 cm/ yr', '5 cm/yr', '55', '35', '1000', '15cm/yr', '15', '40',\n",
       "       '7', '30', '0.1', '15cm'], dtype=object)"
      ]
     },
     "execution_count": 124,
     "metadata": {},
     "output_type": "execute_result"
    }
   ],
   "source": [
    "# take a look at unique values\n",
    "df[\"hair_growth\"].unique()"
   ]
  },
  {
   "cell_type": "code",
   "execution_count": 125,
   "metadata": {
    "slideshow": {
     "slide_type": "fragment"
    }
   },
   "outputs": [],
   "source": [
    "# standardize height column\n",
    "def standardize_hair(string):\n",
    "    \n",
    "    # Basic string pre-processing\n",
    "    string = string.lower()\n",
    "    string = string.strip()    \n",
    "\n",
    "    # take care of inclded unit cases   \n",
    "    string = string.replace(\"cm a year\", \"\")\n",
    "    string = string.replace(\"cm/year\", \"\")\n",
    "    string = string.replace(\"cm/ye\", \"\")\n",
    "    string = string.replace(\"centimeters\", \"\")\n",
    "    string = string.replace(\"cm per year\", \"\")\n",
    "    string = string.replace(\"cm/yr\", \"\")\n",
    "    string = string.replace(\"cm/1yr\", \"\")\n",
    "    string = string.replace(\"cm/y\", \"\")\n",
    "    string = string.replace(\"cm/1 year\", \"\")\n",
    "    string = string.replace(\"year\", \"\")\n",
    "    string = string.replace(\"yr\", \"\")\n",
    "    string = string.replace(\"cm\", \"\")    \n",
    "    string = string.replace(\"/\", \"\")\n",
    "    string = string.replace(\",\", \"\")\n",
    "    string = string.replace(\"eh, I'm  bald\", \"\")\n",
    "    string = string.replace('cm approx.', \"\")\n",
    "    string = string.replace(\"cm/yr, cuz it grows 2cm in a month\", \"\")\n",
    "    string = string.replace(\"^2\", \"0\")\n",
    "    \n",
    "    string = string.strip()\n",
    "\n",
    "    # convert to numeric\n",
    "    try:\n",
    "        output = float(eval(string))\n",
    "    except:\n",
    "        output = np.nan\n",
    "    \n",
    "    return output"
   ]
  },
  {
   "cell_type": "code",
   "execution_count": 126,
   "metadata": {
    "scrolled": false,
    "slideshow": {
     "slide_type": "fragment"
    }
   },
   "outputs": [
    {
     "data": {
      "text/plain": [
       "array([1.00e+02, 1.00e+01, 2.00e+01, 3.00e+00, 1.50e+01, 2.00e+02,\n",
       "       5.00e+00, 5.00e+01, 2.00e+00, 8.00e+00, 1.00e+03, 6.00e+01,\n",
       "       6.00e+00, 1.40e+01, 5.28e+01, 1.20e+01, 2.40e+01, 7.20e+01,\n",
       "       4.00e+00, 3.65e+02, 1.30e+01, 3.00e+01, 5.50e+01, 3.50e+01,\n",
       "       4.00e+01, 7.00e+00, 1.00e-01])"
      ]
     },
     "execution_count": 126,
     "metadata": {},
     "output_type": "execute_result"
    }
   ],
   "source": [
    "# apply function across values in hair growth columns\n",
    "df[\"hair_growth\"] = df[\"hair_growth\"].apply(standardize_hair)\n",
    "df[\"hair_growth\"].unique()"
   ]
  },
  {
   "cell_type": "markdown",
   "metadata": {
    "slideshow": {
     "slide_type": "slide"
    }
   },
   "source": [
    "## Cleaning: Crammed\n",
    "\n",
    "If every living person stood crammed together side-by-side, how large of an area would they occupy (km²)?"
   ]
  },
  {
   "cell_type": "code",
   "execution_count": 127,
   "metadata": {
    "scrolled": false,
    "slideshow": {
     "slide_type": "fragment"
    }
   },
   "outputs": [
    {
     "data": {
      "text/plain": [
       "array(['10000', '7000 km^2', '1000000', '1km^2', '100000', '1500000',\n",
       "       '20,000 km^2', '10000000', '100 million', '10,000 km^2',\n",
       "       '5000000000', '700000000', '1000', '230,000', 'Texas?', '2000',\n",
       "       '2222', '100000000', '50', '1000000000000', '5000', '100',\n",
       "       '500000 km²', \"i'm bad at area lol\", '300', '100000 km', '400',\n",
       "       '6,000,000,000 km^2', '10,000km^2', '100000000 km2', '800,000km^2',\n",
       "       '20,000,000,000,000', '25000', '807', '50000000', '500,000 km^2',\n",
       "       '100 km^2', '10', '1,000,000', '2 billion', '200', '0.04',\n",
       "       '100,000,000', '28,000,000', '1million', '15,000',\n",
       "       '100,000,000km²', '8 million ', '7000', '70000000', '420',\n",
       "       '2000000', '500,000', '1,000,000 km^2', '1 billion',\n",
       "       '22,500,000,000', '190000'], dtype=object)"
      ]
     },
     "execution_count": 127,
     "metadata": {},
     "output_type": "execute_result"
    }
   ],
   "source": [
    "df['crammed'].unique()"
   ]
  },
  {
   "cell_type": "code",
   "execution_count": 128,
   "metadata": {
    "slideshow": {
     "slide_type": "fragment"
    }
   },
   "outputs": [],
   "source": [
    "# standardize crammed column\n",
    "def standardize_crammed(string):    \n",
    "    # Basic string pre-processing\n",
    "    string = string.lower()\n",
    "    string = string.strip()\n",
    "    \n",
    "    # take care of commas\n",
    "    string = string.replace(\",\", \"\")\n",
    "\n",
    "    # take care of specific cases\n",
    "    string = string.replace(\"texas?\", \"696200\")\n",
    "    string = string.replace(\"i'm bad at area lol\", \"NaN\")\n",
    "\n",
    "    # take care of inclded unit cases\n",
    "    string = string.replace(\"^2\", \"\")\n",
    "    string = string.replace(\"²\", \"\")\n",
    "    string = string.replace(\"km\", \"\")\n",
    "    \n",
    "    # take care of scientific notation / word cases\n",
    "    string = string.replace(\" million\", \"000000\")\n",
    "    string = string.replace(\" billion\", \"000000000\")\n",
    "\n",
    "    string = string.strip()\n",
    "\n",
    "\n",
    "    # convert to numeric\n",
    "    try:\n",
    "        output = float(eval(string))\n",
    "    except:\n",
    "        output = np.nan\n",
    "    \n",
    "    return output"
   ]
  },
  {
   "cell_type": "code",
   "execution_count": 129,
   "metadata": {
    "scrolled": false,
    "slideshow": {
     "slide_type": "fragment"
    }
   },
   "outputs": [
    {
     "data": {
      "text/plain": [
       "array([1.000e+04, 7.000e+03, 1.000e+06, 1.000e+00, 1.000e+05, 1.500e+06,\n",
       "       2.000e+04, 1.000e+07, 1.000e+08, 5.000e+09, 7.000e+08, 1.000e+03,\n",
       "       2.300e+05, 6.962e+05, 2.000e+03, 2.222e+03, 5.000e+01, 1.000e+12,\n",
       "       5.000e+03, 1.000e+02, 5.000e+05,       nan, 3.000e+02, 4.000e+02,\n",
       "       6.000e+09, 8.000e+05, 2.000e+13, 2.500e+04, 8.070e+02, 5.000e+07,\n",
       "       1.000e+01, 2.000e+09, 2.000e+02, 4.000e-02, 2.800e+07, 1.500e+04,\n",
       "       8.000e+06, 7.000e+07, 4.200e+02, 2.000e+06, 1.000e+09, 2.250e+10,\n",
       "       1.900e+05])"
      ]
     },
     "execution_count": 129,
     "metadata": {},
     "output_type": "execute_result"
    }
   ],
   "source": [
    "# apply function across values in crammed columns\n",
    "df[\"crammed\"] = df[\"crammed\"].apply(standardize_crammed)\n",
    "df[\"crammed\"].unique()"
   ]
  },
  {
   "cell_type": "markdown",
   "metadata": {
    "slideshow": {
     "slide_type": "slide"
    }
   },
   "source": [
    "## Cleaning: San Diego to NYC\n",
    "\n",
    "How many days would it take to walk from here to New York City (assuming no stopping to fix shoes, apply sunscreen, or for sleeping, eating, or other biological needs)?"
   ]
  },
  {
   "cell_type": "code",
   "execution_count": 130,
   "metadata": {
    "scrolled": false,
    "slideshow": {
     "slide_type": "fragment"
    }
   },
   "outputs": [
    {
     "data": {
      "text/plain": [
       "array(['10', '45 days ', '50', '500', '20 days', '9', '63', '14 days ',\n",
       "       '50 days', '100', '30 days', '3', '7', '31', '45 days',\n",
       "       'Over 3000 days?', '14', '30', '19', '40', '2 months', '150',\n",
       "       '10000', '4 weeks', '15', '180', '700 days', '65 days', '25 days',\n",
       "       '1500', '90 days', '20 days ', '300', '120 days', '20', '90',\n",
       "       '1000', '5000', '14 days', '60', '15 days', '4 days', '42', '45',\n",
       "       '100000', '700', '43', '200 days', '28', '200', '5 days'],\n",
       "      dtype=object)"
      ]
     },
     "execution_count": 130,
     "metadata": {},
     "output_type": "execute_result"
    }
   ],
   "source": [
    "df['SAN_NYC'].unique()"
   ]
  },
  {
   "cell_type": "code",
   "execution_count": 131,
   "metadata": {
    "slideshow": {
     "slide_type": "fragment"
    }
   },
   "outputs": [],
   "source": [
    "# standardize distance column\n",
    "def standardize_distance(string):\n",
    "    \n",
    "    orig = string\n",
    "    output = None\n",
    "    \n",
    "    \n",
    "    # Basic string pre-processing\n",
    "    string = string.lower()\n",
    "    string = string.strip()\n",
    "    \n",
    "    # take care of commas\n",
    "    string = string.replace(\",\", \"\")\n",
    "    \n",
    "    # remove units\n",
    "    string = string.replace(\"days\", \"\")\n",
    "    \n",
    "    # remove uncertainty\n",
    "    string = string.replace(\"?\", \"\")\n",
    "\n",
    "    # remove modifier\n",
    "    string = string.replace(\"over\", \"\")\n",
    "\n",
    "    # take care of non-days answers\n",
    "    string = string.replace(\"2 months\", \"60\")\n",
    "    string = string.replace(\"4 weeks\", \"30\")\n",
    "\n",
    "    # take care of scientific notation \n",
    "    string = string.replace(\"10^3\", \"10000\")\n",
    "    \n",
    "    string = string.strip()\n",
    "\n",
    "    # convert to numeric\n",
    "    output = float(string)\n",
    "    \n",
    "    return output"
   ]
  },
  {
   "cell_type": "code",
   "execution_count": 132,
   "metadata": {},
   "outputs": [],
   "source": [
    "# alternate approach to the same task\n",
    "def dist_helper(distance):\n",
    "    if len(distance) == 1:\n",
    "        return distance[0]\n",
    "    if distance[1] == '*':\n",
    "        return str(float(distance[0]) * float(distance[2]))\n",
    "    if distance[1] == '/':\n",
    "        return str(float(distance[0]) / float(distance[2]))\n",
    "\n",
    "df[\"SAN_NYC_alt\"] = pd.to_numeric(df[\"SAN_NYC\"].\n",
    "                              str.lower().\n",
    "                              replace(\",\", \"\").\n",
    "                              replace({\"days?\":\"\", \n",
    "                                       \"\\^\":\"e\", \"^\\([\\w */)=?]+$\":\"1000\", \n",
    "                                       \" months?\":\" * 30\", \n",
    "                                       \" hours?\": \" / 24\", \n",
    "                                       \" years?\": \" * 365\"}, regex = True).\n",
    "                              str.strip().\n",
    "                              str.split(' ').\n",
    "                              apply(dist_helper), errors = 'coerce')\n"
   ]
  },
  {
   "cell_type": "code",
   "execution_count": 133,
   "metadata": {
    "scrolled": true,
    "slideshow": {
     "slide_type": "fragment"
    }
   },
   "outputs": [
    {
     "data": {
      "text/plain": [
       "array([1.0e+01, 4.5e+01, 5.0e+01, 5.0e+02, 2.0e+01, 9.0e+00, 6.3e+01,\n",
       "       1.4e+01, 1.0e+02, 3.0e+01, 3.0e+00, 7.0e+00, 3.1e+01, 3.0e+03,\n",
       "       1.9e+01, 4.0e+01, 6.0e+01, 1.5e+02, 1.0e+04, 1.5e+01, 1.8e+02,\n",
       "       7.0e+02, 6.5e+01, 2.5e+01, 1.5e+03, 9.0e+01, 3.0e+02, 1.2e+02,\n",
       "       1.0e+03, 5.0e+03, 4.0e+00, 4.2e+01, 1.0e+05, 4.3e+01, 2.0e+02,\n",
       "       2.8e+01, 5.0e+00])"
      ]
     },
     "execution_count": 133,
     "metadata": {},
     "output_type": "execute_result"
    }
   ],
   "source": [
    "# apply function across values in crammed columns\n",
    "df[\"SAN_NYC\"] = df[\"SAN_NYC\"].apply(standardize_distance)\n",
    "df[\"SAN_NYC\"].unique()"
   ]
  },
  {
   "cell_type": "markdown",
   "metadata": {},
   "source": [
    "#### Return to missingness\n",
    "\n",
    "Note that after cleaning, we DO have missing values. These would be worth looking into further; being sure we understand *why* they're missing"
   ]
  },
  {
   "cell_type": "code",
   "execution_count": 134,
   "metadata": {
    "scrolled": true
   },
   "outputs": [
    {
     "data": {
      "text/plain": [
       "timestamp      0\n",
       "hair_growth    0\n",
       "crammed        3\n",
       "SAN_NYC        0\n",
       "SAN_NYC_alt    2\n",
       "dtype: int64"
      ]
     },
     "execution_count": 134,
     "metadata": {},
     "output_type": "execute_result"
    }
   ],
   "source": [
    "# number of missing values by column\n",
    "df.isnull().sum()"
   ]
  },
  {
   "cell_type": "code",
   "execution_count": 136,
   "metadata": {
    "scrolled": true
   },
   "outputs": [
    {
     "data": {
      "text/html": [
       "<div>\n",
       "<style scoped>\n",
       "    .dataframe tbody tr th:only-of-type {\n",
       "        vertical-align: middle;\n",
       "    }\n",
       "\n",
       "    .dataframe tbody tr th {\n",
       "        vertical-align: top;\n",
       "    }\n",
       "\n",
       "    .dataframe thead th {\n",
       "        text-align: right;\n",
       "    }\n",
       "</style>\n",
       "<table border=\"1\" class=\"dataframe\">\n",
       "  <thead>\n",
       "    <tr style=\"text-align: right;\">\n",
       "      <th></th>\n",
       "      <th>timestamp</th>\n",
       "      <th>hair_growth</th>\n",
       "      <th>crammed</th>\n",
       "      <th>SAN_NYC</th>\n",
       "      <th>SAN_NYC_alt</th>\n",
       "    </tr>\n",
       "  </thead>\n",
       "  <tbody>\n",
       "    <tr>\n",
       "      <th>18</th>\n",
       "      <td>2021-04-09 09:11:04</td>\n",
       "      <td>15.0</td>\n",
       "      <td>6.962000e+05</td>\n",
       "      <td>3000.0</td>\n",
       "      <td>NaN</td>\n",
       "    </tr>\n",
       "    <tr>\n",
       "      <th>26</th>\n",
       "      <td>2021-04-09 09:11:09</td>\n",
       "      <td>1000.0</td>\n",
       "      <td>1.000000e+12</td>\n",
       "      <td>30.0</td>\n",
       "      <td>NaN</td>\n",
       "    </tr>\n",
       "    <tr>\n",
       "      <th>31</th>\n",
       "      <td>2021-04-09 09:11:11</td>\n",
       "      <td>2.0</td>\n",
       "      <td>NaN</td>\n",
       "      <td>65.0</td>\n",
       "      <td>65.0</td>\n",
       "    </tr>\n",
       "    <tr>\n",
       "      <th>38</th>\n",
       "      <td>2021-04-09 09:11:18</td>\n",
       "      <td>72.0</td>\n",
       "      <td>NaN</td>\n",
       "      <td>15.0</td>\n",
       "      <td>15.0</td>\n",
       "    </tr>\n",
       "    <tr>\n",
       "      <th>67</th>\n",
       "      <td>2021-04-09 09:11:47</td>\n",
       "      <td>10.0</td>\n",
       "      <td>NaN</td>\n",
       "      <td>3.0</td>\n",
       "      <td>3.0</td>\n",
       "    </tr>\n",
       "  </tbody>\n",
       "</table>\n",
       "</div>"
      ],
      "text/plain": [
       "             timestamp  hair_growth       crammed  SAN_NYC  SAN_NYC_alt\n",
       "18 2021-04-09 09:11:04         15.0  6.962000e+05   3000.0          NaN\n",
       "26 2021-04-09 09:11:09       1000.0  1.000000e+12     30.0          NaN\n",
       "31 2021-04-09 09:11:11          2.0           NaN     65.0         65.0\n",
       "38 2021-04-09 09:11:18         72.0           NaN     15.0         15.0\n",
       "67 2021-04-09 09:11:47         10.0           NaN      3.0          3.0"
      ]
     },
     "execution_count": 136,
     "metadata": {},
     "output_type": "execute_result"
    }
   ],
   "source": [
    "null_rows = df.isnull().any(axis=1)\n",
    "df[null_rows]"
   ]
  },
  {
   "cell_type": "markdown",
   "metadata": {
    "slideshow": {
     "slide_type": "slide"
    }
   },
   "source": [
    "## Shape\n",
    "\n",
    "The shape of your data dictates what analyses you can do. Today, we'll review a number of different distributions (shapes) data can take and examples of data that take that distribution."
   ]
  },
  {
   "cell_type": "markdown",
   "metadata": {
    "slideshow": {
     "slide_type": "slide"
    }
   },
   "source": [
    "### Uniform Distribution\n",
    "\n",
    "<div class=\"alert alert-success\">\n",
    "The Uniform distribution has the property that every outcome has the equal probability of occurring. In other words, all outcomes are equally likely.\n",
    "</div>"
   ]
  },
  {
   "cell_type": "code",
   "execution_count": 137,
   "metadata": {
    "scrolled": false,
    "slideshow": {
     "slide_type": "fragment"
    }
   },
   "outputs": [
    {
     "data": {
      "image/png": "[encoded data removed]",
      "text/plain": [
       "<Figure size 1224x504 with 1 Axes>"
      ]
     },
     "metadata": {
      "image/png": {
       "height": 424,
       "width": 1035
      }
     },
     "output_type": "display_data"
    }
   ],
   "source": [
    "dat = uniform.rvs(size=10000)\n",
    "sns.histplot(dat, bins=20);"
   ]
  },
  {
   "cell_type": "markdown",
   "metadata": {
    "slideshow": {
     "slide_type": "slide"
    }
   },
   "source": [
    "The **probability of rolling a given number on a fair die** is the same each time you roll the die - an example of a Uniform distribution."
   ]
  },
  {
   "cell_type": "markdown",
   "metadata": {
    "slideshow": {
     "slide_type": "fragment"
    }
   },
   "source": [
    "The **probability of pulling a spade out of a deck of cards** is the same each time you pull a card out of the deck."
   ]
  },
  {
   "cell_type": "markdown",
   "metadata": {
    "slideshow": {
     "slide_type": "fragment"
    }
   },
   "source": [
    "The **probability of flipping a heads each time you flip a fair coin** is the same each time you flip the coin."
   ]
  },
  {
   "cell_type": "markdown",
   "metadata": {
    "slideshow": {
     "slide_type": "slide"
    }
   },
   "source": [
    "### Normal Distribution\n",
    "\n",
    "<div class=\"alert alert-success\">\n",
    "The Normal (also Gaussian, or 'Bell Curve') distribution, is a distribution defined by its mean and standard deviation.\n",
    "</div>"
   ]
  },
  {
   "cell_type": "code",
   "execution_count": 138,
   "metadata": {
    "scrolled": false,
    "slideshow": {
     "slide_type": "fragment"
    }
   },
   "outputs": [
    {
     "data": {
      "image/png": "[encoded data removed]",
      "text/plain": [
       "<Figure size 1224x504 with 1 Axes>"
      ]
     },
     "metadata": {
      "image/png": {
       "height": 424,
       "width": 1048
      }
     },
     "output_type": "display_data"
    }
   ],
   "source": [
    "# loc specifies mean\n",
    "# scale specifies the standard deviation\n",
    "dat = norm.rvs(loc=0, scale=1, size=10000)\n",
    "sns.histplot(dat, bins=20);"
   ]
  },
  {
   "cell_type": "markdown",
   "metadata": {
    "slideshow": {
     "slide_type": "fragment"
    }
   },
   "source": [
    "With a standard Normal curve:\n",
    "- 68% of the values fall within one standard deviation [-1,1]\n",
    "- 95% of the values fall within two standard deviations [-2,2]"
   ]
  },
  {
   "cell_type": "markdown",
   "metadata": {
    "slideshow": {
     "slide_type": "fragment"
    }
   },
   "source": [
    "The **Normal distribution** is taught all over the place, and this is because it shows up all over the place. It's found in nature and across measurements we take all the time. It's also easy to understand and to work with statistically."
   ]
  },
  {
   "cell_type": "markdown",
   "metadata": {
    "slideshow": {
     "slide_type": "fragment"
    }
   },
   "source": [
    "The **average height of players in the NBA** follows a Normal distribution, with the average height being 6'7\". "
   ]
  },
  {
   "cell_type": "markdown",
   "metadata": {
    "slideshow": {
     "slide_type": "fragment"
    }
   },
   "source": [
    "If you were to **flip a fair coin 16 times** and count the number of heads each time...and then repeat this 1000 times, recording the number of heads each time, this would follow a Normal distribution. 8 would be the most popular number of heads, but there would be a normal distribution centered on 8 for these data."
   ]
  },
  {
   "cell_type": "markdown",
   "metadata": {
    "slideshow": {
     "slide_type": "slide"
    }
   },
   "source": [
    "### Bimodal Distributions\n",
    "\n",
    "<div class=\"alert alert-success\">\n",
    "A Bimodal Distribution is a distribution with two peaks - it often indicates that you have information about two groups. \n",
    "</div>"
   ]
  },
  {
   "cell_type": "code",
   "execution_count": null,
   "metadata": {
    "slideshow": {
     "slide_type": "fragment"
    }
   },
   "outputs": [],
   "source": [
    "loc1, scale1, size1 = (90, 5, 175)\n",
    "loc2, scale2, size2 = (70, 5, 175)\n",
    "bi = np.concatenate([np.random.normal(loc=loc1, scale=scale1, size=size1), \n",
    "                     np.random.normal(loc=loc2, scale=scale2, size=size2)])\n",
    "sns.histplot(bi, bins=20);"
   ]
  },
  {
   "cell_type": "markdown",
   "metadata": {
    "slideshow": {
     "slide_type": "fragment"
    }
   },
   "source": [
    "When **test scores in a class** are bimodal, often one peak describes those students who studied, while the other are those who didn't study or are struggling more with the course material."
   ]
  },
  {
   "cell_type": "markdown",
   "metadata": {
    "slideshow": {
     "slide_type": "fragment"
    }
   },
   "source": [
    "Another example of a bimodal distribution are **the number of visitors at a restaurant over time**. Often restaurants will get a peak of visitors at lunchtime and dinnertime, with lulls in between."
   ]
  },
  {
   "cell_type": "markdown",
   "metadata": {
    "slideshow": {
     "slide_type": "slide"
    }
   },
   "source": [
    "### Bernoulli Distribution\n",
    "\n",
    "<div class=\"alert alert-success\">\n",
    "A Bernouilli Distribution is a binary distribution - it takes only two values (0 or 1), with some probability $p$. \n",
    "</div>"
   ]
  },
  {
   "cell_type": "code",
   "execution_count": null,
   "metadata": {
    "scrolled": false,
    "slideshow": {
     "slide_type": "fragment"
    }
   },
   "outputs": [],
   "source": [
    "r = bernoulli.rvs(0.1 , size=10000)\n",
    "sns.countplot(r, color='#7995C3');"
   ]
  },
  {
   "cell_type": "markdown",
   "metadata": {
    "slideshow": {
     "slide_type": "-"
    }
   },
   "source": [
    "Usually the value 1 indicates 'success' and 0 indicates 'failure'"
   ]
  },
  {
   "cell_type": "markdown",
   "metadata": {
    "slideshow": {
     "slide_type": "fragment"
    }
   },
   "source": [
    "Whether a **team will win a championship or not** follows a Bernoulli distribution - the team will either win (1 = success) or lose (0 = failure), and there is some probability ($p$) assigned to each of those values."
   ]
  },
  {
   "cell_type": "markdown",
   "metadata": {
    "slideshow": {
     "slide_type": "fragment"
    }
   },
   "source": [
    "Similarly, **whether you pass each exam at UCSD** follows a Bernoulli distribution - either you pass (1 = success) or you fail (0 = failure), and there is some probability assinged to each."
   ]
  },
  {
   "cell_type": "markdown",
   "metadata": {
    "slideshow": {
     "slide_type": "fragment"
    }
   },
   "source": [
    "There are distributions that are built off of the Bernoulli Distribution, defined as follows:\n",
    "- **Binomial Distribution**: Number of success in $n$ trials\n",
    "- **Geometric Distribution**: Number of failures before the first success\n",
    "- **Negative Binomial Distribution**: Number of failures before the $x^{th}$ success"
   ]
  },
  {
   "cell_type": "markdown",
   "metadata": {
    "slideshow": {
     "slide_type": "slide"
    }
   },
   "source": [
    "### Poisson Distribution\n",
    "\n",
    "<div class=\"alert alert-success\">\n",
    "The Poisson Distribution models events in fixed intervals of time, given a known average rate (and independent occurences).\n",
    "</div>"
   ]
  },
  {
   "cell_type": "code",
   "execution_count": null,
   "metadata": {
    "scrolled": false,
    "slideshow": {
     "slide_type": "fragment"
    }
   },
   "outputs": [],
   "source": [
    "dat = poisson.rvs(mu=1, size=100000)\n",
    "sns.histplot(dat);"
   ]
  },
  {
   "cell_type": "markdown",
   "metadata": {
    "slideshow": {
     "slide_type": "fragment"
    }
   },
   "source": [
    "The **number of visitors a fast food drive-through gets each minute** follows a Poisson distribution. In this case, maybe the average is 3, but there's some variability around that number. \n",
    "\n",
    "A Poisson distribution can help calculate the probability of various events related to customers going through the drive-through at a restaurant. It will predict lulls (0 customers) and flurry of activity (5+ customers), allowing staff to plan and schedule more precisely."
   ]
  },
  {
   "cell_type": "markdown",
   "metadata": {
    "slideshow": {
     "slide_type": "slide"
    }
   },
   "source": [
    "https://forms.gle/S6TZ6sE2XVmGuymZ9\n",
    "\n",
    "<img src=\"images/qr-code(16).png\" width=800>\n",
    "\n",
    "#### Clicker Question #2\n",
    "\n",
    "Which of the following would you expect to be **bimodal**?\n",
    "\n",
    "- A) heights from a random sample of females in the US\n",
    "- B) daily chance of winning the lottery\n",
    "- C) number of siblings everyone in this class has\n",
    "- D) distribution of speed limits in the US\n",
    "- E) ages of everyone in this class"
   ]
  },
  {
   "cell_type": "markdown",
   "metadata": {
    "slideshow": {
     "slide_type": "slide"
    }
   },
   "source": [
    "#### Clicker Question #3\n",
    "\n",
    "The \"winning\" number in a lottery follows a...\n",
    "\n",
    "- A) Normal Distribution\n",
    "- B) Uniform Distribution\n",
    "- C) Skewed-right distribution\n",
    "- D) Bimodal Distribtuion\n",
    "- E) Bernoulli Distribution"
   ]
  },
  {
   "cell_type": "markdown",
   "metadata": {
    "slideshow": {
     "slide_type": "slide"
    }
   },
   "source": [
    "#### Shape: Fermi Data"
   ]
  },
  {
   "cell_type": "code",
   "execution_count": null,
   "metadata": {
    "scrolled": false
   },
   "outputs": [],
   "source": [
    "sns.histplot(df['hair_growth'], kde=False, bins=20);"
   ]
  },
  {
   "cell_type": "code",
   "execution_count": null,
   "metadata": {},
   "outputs": [],
   "source": [
    "sns.histplot(df['crammed'], kde=False, bins=200);"
   ]
  },
  {
   "cell_type": "code",
   "execution_count": null,
   "metadata": {},
   "outputs": [],
   "source": [
    "df.crammed"
   ]
  },
  {
   "cell_type": "code",
   "execution_count": null,
   "metadata": {
    "scrolled": false
   },
   "outputs": [],
   "source": [
    "sns.histplot(df.query(\"SAN_NYC < 1000\")['SAN_NYC'], kde=False, bins=20);\n",
    "\n",
    "#.query(\"SAN_NYC < 10000\")"
   ]
  },
  {
   "cell_type": "markdown",
   "metadata": {
    "slideshow": {
     "slide_type": "slide"
    }
   },
   "source": [
    "### Data Transformations"
   ]
  },
  {
   "cell_type": "markdown",
   "metadata": {
    "slideshow": {
     "slide_type": "-"
    }
   },
   "source": [
    "We haven't discussed skewed distributions yet; however, all three variables here are **skewed right**, meaning there is a tail off to the right and most values are found near the lower portion of the distribution.\n",
    "\n",
    "These sorts of distributions are hard to analyze because deviations from the norm are driving the variation in the distribution...even though they are few in number.\n",
    "\n",
    "Often, when you have skwewed data, you'll want to transform the variable."
   ]
  },
  {
   "cell_type": "code",
   "execution_count": null,
   "metadata": {
    "scrolled": false,
    "slideshow": {
     "slide_type": "-"
    }
   },
   "outputs": [],
   "source": [
    "# log transformed data\n",
    "sns.histplot(np.log10(df['hair_growth'][df['hair_growth'].notnull()]), bins=10)\n",
    "plt.xlabel('Hair Growth');"
   ]
  },
  {
   "cell_type": "markdown",
   "metadata": {
    "slideshow": {
     "slide_type": "-"
    }
   },
   "source": [
    "After transforming the data, the values appear approximately Normal. Those high values are no longer driving variation in the data. However, we're now on a log-scale, which sometimes makes interpretation a bit more difficult."
   ]
  },
  {
   "cell_type": "markdown",
   "metadata": {
    "slideshow": {
     "slide_type": "slide"
    }
   },
   "source": [
    "### Outliers\n",
    "\n",
    "Outliers are values that fall outside the typical range of your dataset. These can occur for all types of reasons:\n",
    "\n",
    "- data entry errors\n",
    "- poor sampling procedures\n",
    "- technical or mechanical errors\n",
    "- unexpected changes in weather\n",
    "- extreme values\n",
    "- people giving incorrect information\n",
    "- etc."
   ]
  },
  {
   "cell_type": "markdown",
   "metadata": {
    "slideshow": {
     "slide_type": "-"
    }
   },
   "source": [
    "<div class=\"alert alert-danger\">\n",
    "Caution: Observations should only be removed from your dataset if you have a valid reason to do so. If you remove outliers from your dataset, your report should be <b>very</b> clear that you did so.\n",
    "</div>"
   ]
  },
  {
   "cell_type": "markdown",
   "metadata": {
    "slideshow": {
     "slide_type": "slide"
    }
   },
   "source": [
    "![outliers](images/outliers.png)\n",
    "\n",
    "Link to Tweet: https://twitter.com/ChelseaParlett/status/1356285012375556109  \n",
    "Thread on possible approaches: https://twitter.com/IsabellaGhement/status/1356645319799308288"
   ]
  },
  {
   "cell_type": "markdown",
   "metadata": {
    "slideshow": {
     "slide_type": "slide"
    }
   },
   "source": [
    "## Central Tendency\n",
    "\n",
    "- mean \n",
    "- median\n",
    "- mode\n",
    "\n",
    "The Central Tendency tells you the 'typical' value for an observation in your dataset."
   ]
  },
  {
   "cell_type": "markdown",
   "metadata": {
    "slideshow": {
     "slide_type": "slide"
    }
   },
   "source": [
    "### Mean"
   ]
  },
  {
   "cell_type": "markdown",
   "metadata": {
    "slideshow": {
     "slide_type": "-"
    }
   },
   "source": [
    "\n",
    "$$ \\bar x = \\frac{\\sum\\limits_{i = 1}^N x_i}N  $$\n"
   ]
  },
  {
   "cell_type": "markdown",
   "metadata": {
    "slideshow": {
     "slide_type": "-"
    }
   },
   "source": [
    "- $x_i$ = ith element of the sample\n",
    "- $\\bar x$ = sample mean\n",
    "- $N$ = sample size\n"
   ]
  },
  {
   "cell_type": "code",
   "execution_count": null,
   "metadata": {
    "slideshow": {
     "slide_type": "fragment"
    }
   },
   "outputs": [],
   "source": [
    "# to calculate mean\n",
    "sum(df['hair_growth'])/len(df)"
   ]
  },
  {
   "cell_type": "code",
   "execution_count": null,
   "metadata": {
    "slideshow": {
     "slide_type": "-"
    }
   },
   "outputs": [],
   "source": [
    "df['hair_growth'].mean()"
   ]
  },
  {
   "cell_type": "code",
   "execution_count": null,
   "metadata": {
    "slideshow": {
     "slide_type": "-"
    }
   },
   "outputs": [],
   "source": [
    "# check mean for each column\n",
    "df.mean()"
   ]
  },
  {
   "cell_type": "markdown",
   "metadata": {
    "slideshow": {
     "slide_type": "slide"
    }
   },
   "source": [
    "### Median"
   ]
  },
  {
   "cell_type": "code",
   "execution_count": null,
   "metadata": {
    "slideshow": {
     "slide_type": "-"
    }
   },
   "outputs": [],
   "source": [
    "# check median for each column\n",
    "df.median()"
   ]
  },
  {
   "cell_type": "markdown",
   "metadata": {
    "slideshow": {
     "slide_type": "slide"
    }
   },
   "source": [
    "### Median vs. Mean\n",
    "\n",
    "When the median and mean are not similar to one another...what's the best approach?"
   ]
  },
  {
   "cell_type": "code",
   "execution_count": null,
   "metadata": {
    "scrolled": false,
    "slideshow": {
     "slide_type": "-"
    }
   },
   "outputs": [],
   "source": [
    "# relook at the distribution for bodywt\n",
    "sns.histplot(df['hair_growth'], bins=10);"
   ]
  },
  {
   "cell_type": "code",
   "execution_count": null,
   "metadata": {
    "scrolled": true,
    "slideshow": {
     "slide_type": "-"
    }
   },
   "outputs": [],
   "source": [
    "# median and mean for same series\n",
    "print( 'median: ', df['hair_growth'].median())\n",
    "print( 'mean: ', df['hair_growth'].mean())"
   ]
  },
  {
   "cell_type": "code",
   "execution_count": null,
   "metadata": {
    "scrolled": false,
    "slideshow": {
     "slide_type": "-"
    }
   },
   "outputs": [],
   "source": [
    "# take a look at it all together\n",
    "ax = sns.histplot(df['hair_growth'], bins=10);\n",
    "ax.axvline(df['hair_growth'].mean(), color='darkred', linestyle='--', label='mean');\n",
    "ax.axvline(df['hair_growth'].median(), color='#2e2e2e', linestyle='--', label='median')\n",
    "ax.legend();"
   ]
  },
  {
   "cell_type": "markdown",
   "metadata": {
    "slideshow": {
     "slide_type": "fragment"
    }
   },
   "source": [
    "#### Clicker Question #4\n",
    "\n",
    "Which of the following is the best way to measure the central tendency of `hair_growth` in these data?\n",
    "\n",
    "- A) mean\n",
    "- B) median\n",
    "- C) mode"
   ]
  },
  {
   "cell_type": "code",
   "execution_count": null,
   "metadata": {
    "scrolled": false,
    "slideshow": {
     "slide_type": "fragment"
    }
   },
   "outputs": [],
   "source": [
    "# increase the number of bins here\n",
    "ax = sns.histplot(df['hair_growth'], bins=100);\n",
    "ax.axvline(df['hair_growth'].mean(), color='darkred', linestyle='--', label='mean');\n",
    "ax.axvline(df['hair_growth'].median(), color='#2e2e2e', linestyle='--', label='median')\n",
    "ax.legend();"
   ]
  },
  {
   "cell_type": "markdown",
   "metadata": {
    "slideshow": {
     "slide_type": "slide"
    }
   },
   "source": [
    "#### How did y'all do?"
   ]
  },
  {
   "cell_type": "code",
   "execution_count": null,
   "metadata": {
    "scrolled": true,
    "slideshow": {
     "slide_type": "-"
    }
   },
   "outputs": [],
   "source": [
    "# compare to actual value: 15 cm/year (~6 in)\n",
    "df[\"hair_growth\"].median()"
   ]
  },
  {
   "cell_type": "code",
   "execution_count": null,
   "metadata": {
    "slideshow": {
     "slide_type": "-"
    }
   },
   "outputs": [],
   "source": [
    "# compare to actual value: 1,000-10,000 km^2)\n",
    "df['crammed'].median()"
   ]
  },
  {
   "cell_type": "code",
   "execution_count": null,
   "metadata": {
    "scrolled": true,
    "slideshow": {
     "slide_type": "-"
    }
   },
   "outputs": [],
   "source": [
    "# compare to actual value: 38 days)\n",
    "df['SAN_NYC'].median()"
   ]
  },
  {
   "cell_type": "markdown",
   "metadata": {
    "slideshow": {
     "slide_type": "slide"
    }
   },
   "source": [
    "Calculating the mean and median of your sample is helpful when dealing with **quantitative variables**.\n",
    "\n",
    "When working with **categorical variables**, knowing the mode is helpful."
   ]
  },
  {
   "cell_type": "markdown",
   "metadata": {
    "slideshow": {
     "slide_type": "slide"
    }
   },
   "source": [
    "### Mode\n",
    "\n",
    "When working with categorical data, the mode is the most common value in the dataset."
   ]
  },
  {
   "cell_type": "markdown",
   "metadata": {
    "slideshow": {
     "slide_type": "slide"
    }
   },
   "source": [
    "## Variability\n",
    "\n",
    "- Range\n",
    "- IQR\n",
    "- Variance & Standard Deviation"
   ]
  },
  {
   "cell_type": "markdown",
   "metadata": {
    "slideshow": {
     "slide_type": "slide"
    }
   },
   "source": [
    "### Range\n",
    "\n",
    "The highest value minus the lowest value."
   ]
  },
  {
   "cell_type": "code",
   "execution_count": null,
   "metadata": {
    "slideshow": {
     "slide_type": "-"
    }
   },
   "outputs": [],
   "source": [
    "# determine the 25th and 75th percentiles\n",
    "min_val = df['hair_growth'].min()\n",
    "max_val = df['hair_growth'].max()\n",
    "range_vals =  max_val - min_val\n",
    "print(max_val, '-' , min_val,' = ',  range_vals)"
   ]
  },
  {
   "cell_type": "markdown",
   "metadata": {
    "slideshow": {
     "slide_type": "slide"
    }
   },
   "source": [
    "### IQR (Interquartile Range)\n",
    "\n",
    "75th percentile - 25th percentile"
   ]
  },
  {
   "cell_type": "code",
   "execution_count": null,
   "metadata": {
    "scrolled": true,
    "slideshow": {
     "slide_type": "-"
    }
   },
   "outputs": [],
   "source": [
    "# determine the 25th and 75th percentiles\n",
    "lower, upper = np.percentile(df['hair_growth'], [25, 75])\n",
    "lower, upper"
   ]
  },
  {
   "cell_type": "code",
   "execution_count": null,
   "metadata": {
    "slideshow": {
     "slide_type": "-"
    }
   },
   "outputs": [],
   "source": [
    "# calculate IQR\n",
    "iqr = upper - lower\n",
    "iqr"
   ]
  },
  {
   "cell_type": "code",
   "execution_count": null,
   "metadata": {},
   "outputs": [],
   "source": [
    "df['hair_growth'].quantile([0.25,0.75])"
   ]
  },
  {
   "cell_type": "code",
   "execution_count": null,
   "metadata": {
    "slideshow": {
     "slide_type": "-"
    }
   },
   "outputs": [],
   "source": [
    "# visualizing IQR\n",
    "sns.boxplot(x='hair_growth', data=df);"
   ]
  },
  {
   "cell_type": "markdown",
   "metadata": {
    "slideshow": {
     "slide_type": "slide"
    }
   },
   "source": [
    "### Variance & Standard Deviation\n",
    "\n",
    "- variance\n",
    "    - measures how close the values in the distribution are to the middle of the distribution\n",
    "    - average squared difference of the scores from  the mean\n",
    "- standard deviation\n",
    "    - square root of the variance"
   ]
  },
  {
   "cell_type": "markdown",
   "metadata": {
    "slideshow": {
     "slide_type": "slide"
    }
   },
   "source": [
    "#### Variance"
   ]
  },
  {
   "cell_type": "markdown",
   "metadata": {
    "slideshow": {
     "slide_type": "-"
    }
   },
   "source": [
    "$$ s^2 = \\frac {\\sum\\limits_{i = 1}^N {\\left( {x_i - \\bar x} \\right)^2 }} {(N-1)} $$"
   ]
  },
  {
   "cell_type": "markdown",
   "metadata": {
    "slideshow": {
     "slide_type": "-"
    }
   },
   "source": [
    "- $s^2$ = sample variance\n",
    "- $x_i$ = ith element of the sample\n",
    "- $\\bar x$ = mean of the sample\n",
    "- $N$ = sample size\n"
   ]
  },
  {
   "cell_type": "code",
   "execution_count": null,
   "metadata": {
    "slideshow": {
     "slide_type": "fragment"
    }
   },
   "outputs": [],
   "source": [
    "# the math behind sample variance\n",
    "var = sum((df['hair_growth'] - df['hair_growth'].mean()) ** 2 )/(len(df) - 1) \n",
    "var"
   ]
  },
  {
   "cell_type": "code",
   "execution_count": null,
   "metadata": {
    "slideshow": {
     "slide_type": "fragment"
    }
   },
   "outputs": [],
   "source": [
    "# calculate variance using pandas\n",
    "var = df['hair_growth'].var()\n",
    "var"
   ]
  },
  {
   "cell_type": "markdown",
   "metadata": {
    "slideshow": {
     "slide_type": "slide"
    }
   },
   "source": [
    "#### Standard Deviation\n",
    "square root of the variance"
   ]
  },
  {
   "cell_type": "markdown",
   "metadata": {
    "slideshow": {
     "slide_type": "-"
    }
   },
   "source": [
    "$$ s = \\sqrt {\\frac {\\sum\\limits_{i = 1}^N {\\left( {x_i - \\bar x} \\right)^2 }} {(N-1)}} $$"
   ]
  },
  {
   "cell_type": "code",
   "execution_count": null,
   "metadata": {
    "scrolled": true,
    "slideshow": {
     "slide_type": "fragment"
    }
   },
   "outputs": [],
   "source": [
    "np.sqrt(var)"
   ]
  },
  {
   "cell_type": "code",
   "execution_count": null,
   "metadata": {
    "scrolled": true,
    "slideshow": {
     "slide_type": "fragment"
    }
   },
   "outputs": [],
   "source": [
    "# calculate variance using pandas\n",
    "sd = df['hair_growth'].std()\n",
    "sd "
   ]
  },
  {
   "cell_type": "markdown",
   "metadata": {
    "slideshow": {
     "slide_type": "slide"
    }
   },
   "source": [
    "## Descriptive Tables"
   ]
  },
  {
   "cell_type": "markdown",
   "metadata": {
    "slideshow": {
     "slide_type": "slide"
    }
   },
   "source": [
    "![descriptive table](images/descriptive.png)"
   ]
  },
  {
   "cell_type": "markdown",
   "metadata": {
    "slideshow": {
     "slide_type": "slide"
    }
   },
   "source": [
    "### Why Central Tendency Doesn't Tell the Whole Story"
   ]
  },
  {
   "cell_type": "code",
   "execution_count": null,
   "metadata": {
    "slideshow": {
     "slide_type": "-"
    }
   },
   "outputs": [],
   "source": [
    "# generate two different normal distributions\n",
    "dist_1 = np.random.normal(5, 2, 1000)\n",
    "dist_2 = np.random.normal(5, 10, 1000)"
   ]
  },
  {
   "cell_type": "code",
   "execution_count": null,
   "metadata": {
    "scrolled": false,
    "slideshow": {
     "slide_type": "-"
    }
   },
   "outputs": [],
   "source": [
    "# plot distributions side by side\n",
    "sns.kdeplot(dist_1, label=\"mean: 5, sd: 2\")\n",
    "sns.kdeplot(dist_2, label=\"mean: 5, sd: 10\")\n",
    "plt.legend();"
   ]
  },
  {
   "cell_type": "markdown",
   "metadata": {
    "slideshow": {
     "slide_type": "slide"
    }
   },
   "source": [
    "## Anscombe's Quartet: A Cautionary Tale"
   ]
  },
  {
   "cell_type": "markdown",
   "metadata": {
    "slideshow": {
     "slide_type": "notes"
    }
   },
   "source": [
    "Code in this example taken from [here](https://matplotlib.org/gallery/specialty_plots/anscombe.html)."
   ]
  },
  {
   "cell_type": "code",
   "execution_count": null,
   "metadata": {
    "slideshow": {
     "slide_type": "-"
    }
   },
   "outputs": [],
   "source": [
    "x = np.array([10, 8, 13, 9, 11, 14, 6, 4, 12, 7, 5])\n",
    "y1 = np.array([8.04, 6.95, 7.58, 8.81, 8.33, 9.96, 7.24, 4.26, 10.84, 4.82, 5.68])\n",
    "y2 = np.array([9.14, 8.14, 8.74, 8.77, 9.26, 8.10, 6.13, 3.10, 9.13, 7.26, 4.74])\n",
    "y3 = np.array([7.46, 6.77, 12.74, 7.11, 7.81, 8.84, 6.08, 5.39, 8.15, 6.42, 5.73])\n",
    "x4 = np.array([8, 8, 8, 8, 8, 8, 8, 19, 8, 8, 8])\n",
    "y4 = np.array([6.58, 5.76, 7.71, 8.84, 8.47, 7.04, 5.25, 12.50, 5.56, 7.91, 6.89])"
   ]
  },
  {
   "cell_type": "code",
   "execution_count": null,
   "metadata": {
    "scrolled": false,
    "slideshow": {
     "slide_type": "-"
    }
   },
   "outputs": [],
   "source": [
    "def fit(x):\n",
    "    return 3 + 0.5 * x\n",
    "\n",
    "xfit = np.array([np.min(x), np.max(x)])\n",
    "\n",
    "plt.subplot(221)\n",
    "plt.plot(x, y1, 'ks', xfit, fit(xfit), 'r-', lw=2)\n",
    "plt.axis([2, 20, 2, 14])\n",
    "plt.setp(plt.gca(), xticklabels=[], yticks=(4, 8, 12), xticks=(0, 10, 20))\n",
    "plt.text(3, 12, 'I', fontsize=20)\n",
    "\n",
    "plt.subplot(222)\n",
    "plt.plot(x, y2, 'ks', xfit, fit(xfit), 'r-', lw=2)\n",
    "plt.axis([2, 20, 2, 14])\n",
    "plt.setp(plt.gca(), xticks=(0, 10, 20), xticklabels=[],\n",
    "         yticks=(4, 8, 12), yticklabels=[], )\n",
    "plt.text(3, 12, 'II', fontsize=20)\n",
    "\n",
    "plt.subplot(223)\n",
    "plt.plot(x, y3, 'ks', xfit, fit(xfit), 'r-', lw=2)\n",
    "plt.axis([2, 20, 2, 14])\n",
    "plt.text(3, 12, 'III', fontsize=20)\n",
    "plt.setp(plt.gca(), yticks=(4, 8, 12), xticks=(0, 10, 20))\n",
    "\n",
    "plt.subplot(224)\n",
    "xfit = np.array([np.min(x4), np.max(x4)])\n",
    "plt.plot(x4, y4, 'ks', xfit, fit(xfit), 'r-', lw=2)\n",
    "plt.axis([2, 20, 2, 14])\n",
    "plt.setp(plt.gca(), yticklabels=[], yticks=(4, 8, 12), xticks=(0, 10, 20))\n",
    "plt.text(3, 12, 'IV', fontsize=20)\n",
    "\n",
    "# verify the stats\n",
    "pairs = (x, y1), (x, y2), (x, y3), (x4, y4)\n",
    "for x, y in pairs:\n",
    "    print('mean=%1.2f, std=%1.2f, r=%1.2f' % (np.mean(y), np.std(y),\n",
    "          np.corrcoef(x, y)[0][1]))\n",
    "\n",
    "plt.show()"
   ]
  },
  {
   "cell_type": "markdown",
   "metadata": {
    "slideshow": {
     "slide_type": "fragment"
    }
   },
   "source": [
    "### Draw the Graph (What EDA is all about!)"
   ]
  }
 ],
 "metadata": {
  "celltoolbar": "Slideshow",
  "kernelspec": {
   "display_name": "Python 3",
   "language": "python",
   "name": "python3"
  },
  "language_info": {
   "codemirror_mode": {
    "name": "ipython",
    "version": 3
   },
   "file_extension": ".py",
   "mimetype": "text/x-python",
   "name": "python",
   "nbconvert_exporter": "python",
   "pygments_lexer": "ipython3",
   "version": "3.8.8"
  },
  "rise": {
   "scroll": true
  }
 },
 "nbformat": 4,
 "nbformat_minor": 2
}
